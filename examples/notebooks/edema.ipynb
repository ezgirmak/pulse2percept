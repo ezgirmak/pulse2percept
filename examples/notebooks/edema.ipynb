{
 "cells": [
  {
   "cell_type": "markdown",
   "metadata": {},
   "source": [
    "# pulse2percept: Edema Example\n",
    "\n",
    "\n"
   ]
  },
  {
   "cell_type": "code",
   "execution_count": null,
   "metadata": {
    "collapsed": true
   },
   "outputs": [],
   "source": [
    "import skimage.io as skio"
   ]
  },
  {
   "cell_type": "code",
   "execution_count": null,
   "metadata": {},
   "outputs": [],
   "source": [
    "import numpy as np\n",
    "import matplotlib.pyplot as plt\n",
    "%matplotlib inline\n",
    "\n",
    "import pulse2percept as p2p"
   ]
  },
  {
   "cell_type": "code",
   "execution_count": null,
   "metadata": {
    "collapsed": true,
    "scrolled": true
   },
   "outputs": [],
   "source": [
    "# Load an Argus II array\n",
    "argus = p2p.implants.ArgusII( h=0, rot=np.deg2rad(-35), eye='RE')"
   ]
  },
  {
   "cell_type": "code",
   "execution_count": null,
   "metadata": {
    "collapsed": true
   },
   "outputs": [],
   "source": [
    "# Start the simulation framework\n",
    "sim = p2p.Simulation(argus, engine='joblib', n_jobs=1)"
   ]
  },
  {
   "cell_type": "code",
   "execution_count": null,
   "metadata": {},
   "outputs": [],
   "source": [
    "#Set up an edema_map\n",
    "s_sample = 100\n",
    "xhi = 1000\n",
    "xlo = -1000\n",
    "xrange = (xlo, xhi)\n",
    "yhi = 1000\n",
    "ylo = -1000\n",
    "yrange = (ylo, yhi)\n",
    "sampling=s_sample\n",
    "num_x = int((xhi - xlo) / sampling + 1)\n",
    "num_y = int((yhi - ylo) / sampling + 1)\n",
    "\n",
    "gridx, gridy = np.meshgrid(np.linspace(xlo, xhi, num_x),\n",
    "                                             np.linspace(ylo, yhi, num_y),\n",
    "                                             indexing='xy')\n",
    "\n",
    "edema_map = np.zeros((gridx.shape[0], gridx.shape[1]), dtype=float)\n",
    "edema_map[12,:] = 1\n",
    "edema_map.shape\n"
   ]
  },
  {
   "cell_type": "code",
   "execution_count": null,
   "metadata": {},
   "outputs": [],
   "source": [
    "# Set parameters of the optic fiber layer (OFL)\n",
    "# In previous versions of the model, this used to be called the `Retina`\n",
    "# object, which created a spatial grid and generated the axtron streak map.\n",
    "\n",
    "# Set the spatial sampling step (microns) of the retinal grid\n",
    "sim.set_optic_fiber_layer(sampling=s_sample, n_axons=501, n_rho=801, rho_range=(4, 45),\n",
    "                          sensitivity_rule='decay', decay_const=5.0,\n",
    "                          contribution_rule='max', edema_map = edema_map)"
   ]
  },
  {
   "cell_type": "code",
   "execution_count": null,
   "metadata": {
    "collapsed": true
   },
   "outputs": [],
   "source": [
    "# Set parameters of the ganglion cell layer (GCL)\n",
    "# In previous versions of the model, this used to be called `TemporalModel`.\n",
    "\n",
    "# Set the temporal sampling step (seconds)\n",
    "t_sample = 0.01 / 1000\n",
    "sim.set_ganglion_cell_layer('Nanduri2012', tsample=t_sample)"
   ]
  },
  {
   "cell_type": "markdown",
   "metadata": {},
   "source": [
    "### 1.4 Specifying the input stimulus"
   ]
  },
  {
   "cell_type": "code",
   "execution_count": null,
   "metadata": {
    "collapsed": true
   },
   "outputs": [],
   "source": [
    "# Send a pulse train to two specific electrodes, set all others to zero\n",
    "stim = {\n",
    "    'D4': p2p.stimuli.PulseTrain(t_sample, freq=50, amp=20, dur=0.5), \n",
    "}"
   ]
  },
  {
   "cell_type": "markdown",
   "metadata": {},
   "source": [
    "We can visualize the specified electrode array and its location on the retina with respect to the optic disc:"
   ]
  },
  {
   "cell_type": "code",
   "execution_count": null,
   "metadata": {},
   "outputs": [],
   "source": [
    "p2p.viz.plot_fundus(argus, stim, upside_down=False);"
   ]
  },
  {
   "cell_type": "markdown",
   "metadata": {},
   "source": [
    "# 2. Running the Simulation"
   ]
  },
  {
   "cell_type": "markdown",
   "metadata": {},
   "source": [
    "Simulations are run by passing an input stimulus `stim` to `p2p.pulse2percept`. Output is a `p2p.utils.TimeSeries` objects that contains the brightness changes over time for each pixel."
   ]
  },
  {
   "cell_type": "code",
   "execution_count": null,
   "metadata": {},
   "outputs": [],
   "source": [
    "# Run a simulation\n",
    "# - tol: ignore pixels whose efficient current is smaller than 10% of the max\n",
    "# - layers: simulate ganglion cell layer (GCL) and optic fiber layer (OFL),\n",
    "#   but ignore inner nuclear layer (INL) for now\n",
    "percept = sim.pulse2percept(stim, tol=0.1, layers=['GCL', 'OFL'])"
   ]
  },
  {
   "cell_type": "code",
   "execution_count": null,
   "metadata": {
    "collapsed": true
   },
   "outputs": [],
   "source": [
    "debug\n"
   ]
  },
  {
   "cell_type": "code",
   "execution_count": null,
   "metadata": {},
   "outputs": [],
   "source": [
    "frame = p2p.get_brightest_frame(percept)\n",
    "plt.figure(figsize=(8, 5))\n",
    "plt.imshow(frame.data, cmap='gray')\n",
    "plt.colorbar()"
   ]
  },
  {
   "cell_type": "code",
   "execution_count": null,
   "metadata": {},
   "outputs": [],
   "source": [
    "cs = np.zeros((gridx.shape[0], gridx.shape[1],\n",
    "                       2, len(argus.electrodes)), dtype=float)\n",
    "for i, e in enumerate(argus.electrodes):\n",
    "            cs[..., 0, i] = e.current_spread(gridx, gridy,\n",
    "                                             layer='INL', alpha=14000)\n",
    "            cs[..., 1, i] = e.current_spread(gridx, gridy,\n",
    "                                             layer='OFL', alpha=14000)\n",
    "        \n",
    "skio.imshow(cs[:,:,1,10])"
   ]
  },
  {
   "cell_type": "code",
   "execution_count": null,
   "metadata": {},
   "outputs": [],
   "source": [
    "edemas = p2p.retina.edema_contribution(cs[:,:,1,10],edema_map)\n",
    "edemas.shape\n",
    "skio.imshow(edemas)"
   ]
  },
  {
   "cell_type": "code",
   "execution_count": null,
   "metadata": {
    "collapsed": true,
    "scrolled": false
   },
   "outputs": [],
   "source": [
    "\n",
    "\n"
   ]
  },
  {
   "cell_type": "code",
   "execution_count": null,
   "metadata": {},
   "outputs": [],
   "source": [
    "p2p.implants.Electrode.current_spread"
   ]
  }
 ],
 "metadata": {
  "anaconda-cloud": {},
  "kernelspec": {
   "display_name": "Python 3",
   "language": "python",
   "name": "python3"
  },
  "language_info": {
   "codemirror_mode": {
    "name": "ipython",
    "version": 3
   },
   "file_extension": ".py",
   "mimetype": "text/x-python",
   "name": "python",
   "nbconvert_exporter": "python",
   "pygments_lexer": "ipython3",
   "version": "3.6.4"
  }
 },
 "nbformat": 4,
 "nbformat_minor": 1
}
